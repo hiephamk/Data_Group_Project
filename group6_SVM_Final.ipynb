{
 "cells": [
  {
   "cell_type": "markdown",
   "id": "e0f67b30",
   "metadata": {},
   "source": [
    "# Pumpkin Seed Assignment - Group 6"
   ]
  },
  {
   "cell_type": "markdown",
   "id": "194a0070",
   "metadata": {},
   "source": [
    "Team members:\n",
    " - Phuong Le\n",
    " - Hiep Huynh\n",
    " - Xin Feng"
   ]
  },
  {
   "cell_type": "markdown",
   "id": "a8898994",
   "metadata": {
    "id": "aWs-qNAh8uLr",
    "papermill": {
     "duration": 0.009982,
     "end_time": "2023-03-31T15:58:58.773606",
     "exception": false,
     "start_time": "2023-03-31T15:58:58.763624",
     "status": "completed"
    },
    "tags": []
   },
   "source": [
    "## Information about the dataset"
   ]
  },
  {
   "cell_type": "markdown",
   "id": "2c651bdf",
   "metadata": {},
   "source": [
    "The dataset:\n",
    "- Features: 13 features\n",
    "- Target:  2 pumpkin class: Çerçevelik, Ürgüp Sivrisi\n",
    "  \n",
    "Pumpkin seeds dataset https://www.kaggle.com/datasets/muratkokludataset/pumpkin-seeds-dataset/data"
   ]
  },
  {
   "cell_type": "code",
   "execution_count": 1,
   "id": "9dce8b6d",
   "metadata": {
    "execution": {
     "iopub.execute_input": "2023-03-31T15:58:58.795408Z",
     "iopub.status.busy": "2023-03-31T15:58:58.794251Z",
     "iopub.status.idle": "2023-03-31T15:59:00.846267Z",
     "shell.execute_reply": "2023-03-31T15:59:00.844168Z"
    },
    "id": "kR62F0Frbw-e",
    "papermill": {
     "duration": 2.066936,
     "end_time": "2023-03-31T15:59:00.850258",
     "exception": false,
     "start_time": "2023-03-31T15:58:58.783322",
     "status": "completed"
    },
    "tags": []
   },
   "outputs": [],
   "source": [
    "#import necessary libraries\n",
    "import pandas as pd\n",
    "import numpy as np\n",
    "import matplotlib.pyplot as plt\n",
    "import seaborn as sns\n",
    "from sklearn.svm import SVC\n",
    "from sklearn.preprocessing import StandardScaler\n",
    "from sklearn.model_selection import GridSearchCV,train_test_split\n",
    "from sklearn.metrics import classification_report, accuracy_score,confusion_matrix,ConfusionMatrixDisplay\n",
    "from sklearn.metrics import accuracy_score\n",
    "from sklearn.pipeline import Pipeline"
   ]
  },
  {
   "cell_type": "code",
   "execution_count": 2,
   "id": "7ddaac57",
   "metadata": {
    "execution": {
     "iopub.execute_input": "2023-03-31T15:59:00.949777Z",
     "iopub.status.busy": "2023-03-31T15:59:00.948271Z",
     "iopub.status.idle": "2023-03-31T15:59:02.148177Z",
     "shell.execute_reply": "2023-03-31T15:59:02.146654Z"
    },
    "papermill": {
     "duration": 1.213217,
     "end_time": "2023-03-31T15:59:02.151140",
     "exception": false,
     "start_time": "2023-03-31T15:59:00.937923",
     "status": "completed"
    },
    "tags": []
   },
   "outputs": [
    {
     "data": {
      "text/html": [
       "<div>\n",
       "<style scoped>\n",
       "    .dataframe tbody tr th:only-of-type {\n",
       "        vertical-align: middle;\n",
       "    }\n",
       "\n",
       "    .dataframe tbody tr th {\n",
       "        vertical-align: top;\n",
       "    }\n",
       "\n",
       "    .dataframe thead th {\n",
       "        text-align: right;\n",
       "    }\n",
       "</style>\n",
       "<table border=\"1\" class=\"dataframe\">\n",
       "  <thead>\n",
       "    <tr style=\"text-align: right;\">\n",
       "      <th></th>\n",
       "      <th>Area</th>\n",
       "      <th>Perimeter</th>\n",
       "      <th>Major_Axis_Length</th>\n",
       "      <th>Minor_Axis_Length</th>\n",
       "      <th>Convex_Area</th>\n",
       "      <th>Equiv_Diameter</th>\n",
       "      <th>Eccentricity</th>\n",
       "      <th>Solidity</th>\n",
       "      <th>Extent</th>\n",
       "      <th>Roundness</th>\n",
       "      <th>Aspect_Ration</th>\n",
       "      <th>Compactness</th>\n",
       "      <th>Class</th>\n",
       "    </tr>\n",
       "  </thead>\n",
       "  <tbody>\n",
       "    <tr>\n",
       "      <th>0</th>\n",
       "      <td>56276</td>\n",
       "      <td>888.242</td>\n",
       "      <td>326.1485</td>\n",
       "      <td>220.2388</td>\n",
       "      <td>56831</td>\n",
       "      <td>267.6805</td>\n",
       "      <td>0.7376</td>\n",
       "      <td>0.9902</td>\n",
       "      <td>0.7453</td>\n",
       "      <td>0.8963</td>\n",
       "      <td>1.4809</td>\n",
       "      <td>0.8207</td>\n",
       "      <td>Çerçevelik</td>\n",
       "    </tr>\n",
       "    <tr>\n",
       "      <th>1</th>\n",
       "      <td>76631</td>\n",
       "      <td>1068.146</td>\n",
       "      <td>417.1932</td>\n",
       "      <td>234.2289</td>\n",
       "      <td>77280</td>\n",
       "      <td>312.3614</td>\n",
       "      <td>0.8275</td>\n",
       "      <td>0.9916</td>\n",
       "      <td>0.7151</td>\n",
       "      <td>0.8440</td>\n",
       "      <td>1.7811</td>\n",
       "      <td>0.7487</td>\n",
       "      <td>Çerçevelik</td>\n",
       "    </tr>\n",
       "    <tr>\n",
       "      <th>2</th>\n",
       "      <td>71623</td>\n",
       "      <td>1082.987</td>\n",
       "      <td>435.8328</td>\n",
       "      <td>211.0457</td>\n",
       "      <td>72663</td>\n",
       "      <td>301.9822</td>\n",
       "      <td>0.8749</td>\n",
       "      <td>0.9857</td>\n",
       "      <td>0.7400</td>\n",
       "      <td>0.7674</td>\n",
       "      <td>2.0651</td>\n",
       "      <td>0.6929</td>\n",
       "      <td>Çerçevelik</td>\n",
       "    </tr>\n",
       "    <tr>\n",
       "      <th>3</th>\n",
       "      <td>66458</td>\n",
       "      <td>992.051</td>\n",
       "      <td>381.5638</td>\n",
       "      <td>222.5322</td>\n",
       "      <td>67118</td>\n",
       "      <td>290.8899</td>\n",
       "      <td>0.8123</td>\n",
       "      <td>0.9902</td>\n",
       "      <td>0.7396</td>\n",
       "      <td>0.8486</td>\n",
       "      <td>1.7146</td>\n",
       "      <td>0.7624</td>\n",
       "      <td>Çerçevelik</td>\n",
       "    </tr>\n",
       "    <tr>\n",
       "      <th>4</th>\n",
       "      <td>66107</td>\n",
       "      <td>998.146</td>\n",
       "      <td>383.8883</td>\n",
       "      <td>220.4545</td>\n",
       "      <td>67117</td>\n",
       "      <td>290.1207</td>\n",
       "      <td>0.8187</td>\n",
       "      <td>0.9850</td>\n",
       "      <td>0.6752</td>\n",
       "      <td>0.8338</td>\n",
       "      <td>1.7413</td>\n",
       "      <td>0.7557</td>\n",
       "      <td>Çerçevelik</td>\n",
       "    </tr>\n",
       "  </tbody>\n",
       "</table>\n",
       "</div>"
      ],
      "text/plain": [
       "    Area  Perimeter  Major_Axis_Length  Minor_Axis_Length  Convex_Area  \\\n",
       "0  56276    888.242           326.1485           220.2388        56831   \n",
       "1  76631   1068.146           417.1932           234.2289        77280   \n",
       "2  71623   1082.987           435.8328           211.0457        72663   \n",
       "3  66458    992.051           381.5638           222.5322        67118   \n",
       "4  66107    998.146           383.8883           220.4545        67117   \n",
       "\n",
       "   Equiv_Diameter  Eccentricity  Solidity  Extent  Roundness  Aspect_Ration  \\\n",
       "0        267.6805        0.7376    0.9902  0.7453     0.8963         1.4809   \n",
       "1        312.3614        0.8275    0.9916  0.7151     0.8440         1.7811   \n",
       "2        301.9822        0.8749    0.9857  0.7400     0.7674         2.0651   \n",
       "3        290.8899        0.8123    0.9902  0.7396     0.8486         1.7146   \n",
       "4        290.1207        0.8187    0.9850  0.6752     0.8338         1.7413   \n",
       "\n",
       "   Compactness       Class  \n",
       "0       0.8207  Çerçevelik  \n",
       "1       0.7487  Çerçevelik  \n",
       "2       0.6929  Çerçevelik  \n",
       "3       0.7624  Çerçevelik  \n",
       "4       0.7557  Çerçevelik  "
      ]
     },
     "execution_count": 2,
     "metadata": {},
     "output_type": "execute_result"
    }
   ],
   "source": [
    "# load the dataset\n",
    "seed = pd.read_excel('Pumpkin_Seeds_Dataset.xlsx')\n",
    "seed.head()"
   ]
  },
  {
   "cell_type": "code",
   "execution_count": 3,
   "id": "2c3dc398",
   "metadata": {
    "execution": {
     "iopub.execute_input": "2023-03-31T15:59:02.172692Z",
     "iopub.status.busy": "2023-03-31T15:59:02.172005Z",
     "iopub.status.idle": "2023-03-31T15:59:02.201919Z",
     "shell.execute_reply": "2023-03-31T15:59:02.199885Z"
    },
    "id": "z5PE5Yq0fsmT",
    "outputId": "21342c9e-0f5a-465f-9f57-c9483be3eddf",
    "papermill": {
     "duration": 0.044669,
     "end_time": "2023-03-31T15:59:02.205276",
     "exception": false,
     "start_time": "2023-03-31T15:59:02.160607",
     "status": "completed"
    },
    "tags": []
   },
   "outputs": [
    {
     "name": "stdout",
     "output_type": "stream",
     "text": [
      "<class 'pandas.core.frame.DataFrame'>\n",
      "RangeIndex: 2500 entries, 0 to 2499\n",
      "Data columns (total 13 columns):\n",
      " #   Column             Non-Null Count  Dtype  \n",
      "---  ------             --------------  -----  \n",
      " 0   Area               2500 non-null   int64  \n",
      " 1   Perimeter          2500 non-null   float64\n",
      " 2   Major_Axis_Length  2500 non-null   float64\n",
      " 3   Minor_Axis_Length  2500 non-null   float64\n",
      " 4   Convex_Area        2500 non-null   int64  \n",
      " 5   Equiv_Diameter     2500 non-null   float64\n",
      " 6   Eccentricity       2500 non-null   float64\n",
      " 7   Solidity           2500 non-null   float64\n",
      " 8   Extent             2500 non-null   float64\n",
      " 9   Roundness          2500 non-null   float64\n",
      " 10  Aspect_Ration      2500 non-null   float64\n",
      " 11  Compactness        2500 non-null   float64\n",
      " 12  Class              2500 non-null   object \n",
      "dtypes: float64(10), int64(2), object(1)\n",
      "memory usage: 254.0+ KB\n"
     ]
    }
   ],
   "source": [
    "# check the data information\n",
    "seed.info()"
   ]
  },
  {
   "cell_type": "code",
   "execution_count": 4,
   "id": "d823cf15",
   "metadata": {
    "execution": {
     "iopub.execute_input": "2023-03-31T15:59:02.226051Z",
     "iopub.status.busy": "2023-03-31T15:59:02.225559Z",
     "iopub.status.idle": "2023-03-31T15:59:02.237936Z",
     "shell.execute_reply": "2023-03-31T15:59:02.236541Z"
    },
    "id": "t2EvsiukvwXm",
    "outputId": "9d52b84e-36cf-4fa3-bf5e-bf4ab6fd1f06",
    "papermill": {
     "duration": 0.026374,
     "end_time": "2023-03-31T15:59:02.240793",
     "exception": false,
     "start_time": "2023-03-31T15:59:02.214419",
     "status": "completed"
    },
    "tags": []
   },
   "outputs": [
    {
     "data": {
      "text/plain": [
       "Area                 0\n",
       "Perimeter            0\n",
       "Major_Axis_Length    0\n",
       "Minor_Axis_Length    0\n",
       "Convex_Area          0\n",
       "Equiv_Diameter       0\n",
       "Eccentricity         0\n",
       "Solidity             0\n",
       "Extent               0\n",
       "Roundness            0\n",
       "Aspect_Ration        0\n",
       "Compactness          0\n",
       "Class                0\n",
       "dtype: int64"
      ]
     },
     "execution_count": 4,
     "metadata": {},
     "output_type": "execute_result"
    }
   ],
   "source": [
    "# check if there is any null value\n",
    "seed.isnull().sum()"
   ]
  },
  {
   "cell_type": "code",
   "execution_count": 5,
   "id": "598514e6",
   "metadata": {},
   "outputs": [
    {
     "data": {
      "text/plain": [
       "0          Çerçevelik\n",
       "1          Çerçevelik\n",
       "2          Çerçevelik\n",
       "3          Çerçevelik\n",
       "4          Çerçevelik\n",
       "            ...      \n",
       "2495    Ürgüp Sivrisi\n",
       "2496    Ürgüp Sivrisi\n",
       "2497    Ürgüp Sivrisi\n",
       "2498    Ürgüp Sivrisi\n",
       "2499    Ürgüp Sivrisi\n",
       "Name: Class, Length: 2500, dtype: object"
      ]
     },
     "execution_count": 5,
     "metadata": {},
     "output_type": "execute_result"
    }
   ],
   "source": [
    "seed.iloc[:,-1]"
   ]
  },
  {
   "cell_type": "code",
   "execution_count": 6,
   "id": "635a3081",
   "metadata": {
    "execution": {
     "iopub.execute_input": "2023-03-31T15:59:02.264345Z",
     "iopub.status.busy": "2023-03-31T15:59:02.263776Z",
     "iopub.status.idle": "2023-03-31T15:59:03.572181Z",
     "shell.execute_reply": "2023-03-31T15:59:03.570145Z"
    },
    "id": "SclkQy63hFT6",
    "outputId": "e780b0cd-d48d-4a67-98b0-c99b04397dd2",
    "papermill": {
     "duration": 1.324151,
     "end_time": "2023-03-31T15:59:03.576147",
     "exception": false,
     "start_time": "2023-03-31T15:59:02.251996",
     "status": "completed"
    },
    "tags": []
   },
   "outputs": [
    {
     "data": {
      "image/png": "[encoded data removed]",
      "text/plain": [
       "<Figure size 1000x1000 with 2 Axes>"
      ]
     },
     "metadata": {},
     "output_type": "display_data"
    }
   ],
   "source": [
    "#Correlation map\n",
    "seed_corr = seed.iloc[:,:-1].corr()\n",
    "fig,ax = plt.subplots(figsize = (10,10))\n",
    "sns.heatmap(seed_corr, annot=True,ax=ax)\n",
    "plt.show()\n"
   ]
  },
  {
   "cell_type": "code",
   "execution_count": null,
   "id": "de9cb98c",
   "metadata": {
    "execution": {
     "iopub.execute_input": "2023-03-31T15:59:03.603392Z",
     "iopub.status.busy": "2023-03-31T15:59:03.602618Z",
     "iopub.status.idle": "2023-03-31T15:59:03.610306Z",
     "shell.execute_reply": "2023-03-31T15:59:03.608619Z"
    },
    "id": "6kosf0d6uVmM",
    "outputId": "0e526792-296c-4730-d7ec-665af2c59db5",
    "papermill": {
     "duration": 0.02522,
     "end_time": "2023-03-31T15:59:03.613683",
     "exception": false,
     "start_time": "2023-03-31T15:59:03.588463",
     "status": "completed"
    },
    "tags": []
   },
   "outputs": [],
   "source": [
    "#check out the column names\n",
    "seed.columns"
   ]
  },
  {
   "cell_type": "code",
   "execution_count": null,
   "id": "deadd5b9",
   "metadata": {
    "execution": {
     "iopub.execute_input": "2023-03-31T15:59:03.641759Z",
     "iopub.status.busy": "2023-03-31T15:59:03.640611Z",
     "iopub.status.idle": "2023-03-31T15:59:03.910053Z",
     "shell.execute_reply": "2023-03-31T15:59:03.907772Z"
    },
    "id": "hm-LSMXOolBb",
    "outputId": "03542277-8318-4185-a3cd-5759597b9793",
    "papermill": {
     "duration": 0.287335,
     "end_time": "2023-03-31T15:59:03.913606",
     "exception": false,
     "start_time": "2023-03-31T15:59:03.626271",
     "status": "completed"
    },
    "tags": []
   },
   "outputs": [],
   "source": [
    "#Visualizing the dataset \n",
    "plt.scatter(seed['Area'],seed['Perimeter'])\n",
    "plt.xlabel('Area')\n",
    "plt.ylabel('Perimeter')\n",
    "plt.show()"
   ]
  },
  {
   "cell_type": "code",
   "execution_count": null,
   "id": "5bd123de",
   "metadata": {},
   "outputs": [],
   "source": [
    "# Visualize all features and target\n",
    "sns.pairplot(seed, hue='Class', diag_kind='kde', palette='Set2')\n",
    "plt.show()"
   ]
  },
  {
   "cell_type": "markdown",
   "id": "5b372886",
   "metadata": {},
   "source": [
    "## The label variable"
   ]
  },
  {
   "cell_type": "code",
   "execution_count": null,
   "id": "42987430",
   "metadata": {
    "execution": {
     "iopub.execute_input": "2023-03-31T15:59:05.779367Z",
     "iopub.status.busy": "2023-03-31T15:59:05.778833Z",
     "iopub.status.idle": "2023-03-31T15:59:05.790871Z",
     "shell.execute_reply": "2023-03-31T15:59:05.788897Z"
    },
    "id": "fAg0MJKuyK_D",
    "outputId": "70675a1b-0667-4815-87b1-2bc3445758a5",
    "papermill": {
     "duration": 0.043377,
     "end_time": "2023-03-31T15:59:05.794738",
     "exception": false,
     "start_time": "2023-03-31T15:59:05.751361",
     "status": "completed"
    },
    "tags": []
   },
   "outputs": [],
   "source": [
    "# Check unique values in the class column\n",
    "seed['Class'].unique()"
   ]
  },
  {
   "cell_type": "code",
   "execution_count": null,
   "id": "6f22e6b4",
   "metadata": {
    "execution": {
     "iopub.execute_input": "2023-03-31T15:59:05.843894Z",
     "iopub.status.busy": "2023-03-31T15:59:05.842012Z",
     "iopub.status.idle": "2023-03-31T15:59:05.879487Z",
     "shell.execute_reply": "2023-03-31T15:59:05.877917Z"
    },
    "id": "ay9qgcKSxh06",
    "outputId": "fdab05f8-3fcf-4915-93c5-42694feb14cd",
    "papermill": {
     "duration": 0.064792,
     "end_time": "2023-03-31T15:59:05.882810",
     "exception": false,
     "start_time": "2023-03-31T15:59:05.818018",
     "status": "completed"
    },
    "tags": []
   },
   "outputs": [],
   "source": [
    "# Area, Perimeter, Major_Axis_Length, Minor_Axis_Length, Convex_Area, Equiv_Diameter, Eccentricity,\n",
    "# Solidity, Extent, Roundness, Aspect_Ration, Compactness, Class\n",
    "# Encoding the class column using get_dummies, use drop_first to merge the column to one instead of having two\n",
    "seed = pd.get_dummies(seed,drop_first = True)\n",
    "#Rename the column name\n",
    "seed.rename(columns = {'Class_Ürgüp Sivrisi': 'Class'}, inplace = True)\n",
    "seed.head()"
   ]
  },
  {
   "cell_type": "code",
   "execution_count": null,
   "id": "8a5a9843",
   "metadata": {
    "execution": {
     "iopub.execute_input": "2023-03-31T15:59:05.931990Z",
     "iopub.status.busy": "2023-03-31T15:59:05.931295Z",
     "iopub.status.idle": "2023-03-31T15:59:05.938961Z",
     "shell.execute_reply": "2023-03-31T15:59:05.937785Z"
    },
    "id": "m_uR4McnuMEa",
    "papermill": {
     "duration": 0.034875,
     "end_time": "2023-03-31T15:59:05.942098",
     "exception": false,
     "start_time": "2023-03-31T15:59:05.907223",
     "status": "completed"
    },
    "tags": []
   },
   "outputs": [],
   "source": [
    "# Split the data into features and target variable\n",
    "X = seed.drop('Class',axis=1)\n",
    "y = seed['Class']\n",
    "X_train, X_temp, y_train, y_temp = train_test_split(X, y, test_size=0.4, random_state=42)\n",
    "X_valid, X_test, y_valid, y_test = train_test_split(X_temp, y_temp, test_size=0.5, random_state=42)"
   ]
  },
  {
   "cell_type": "code",
   "execution_count": null,
   "id": "6a6e33f6",
   "metadata": {},
   "outputs": [],
   "source": [
    "print(\"Raw X_train variance:\", X_train.var())\n",
    "print(\"Scaled X_train variance:\", StandardScaler().fit_transform(X_train).var())"
   ]
  },
  {
   "cell_type": "markdown",
   "id": "4d105d42",
   "metadata": {},
   "source": [
    "## Model 1: Linear SVM"
   ]
  },
  {
   "cell_type": "markdown",
   "id": "ed35ec16",
   "metadata": {},
   "source": [
    "### Linear SVM without Scale"
   ]
  },
  {
   "cell_type": "code",
   "execution_count": null,
   "id": "48dca3bb",
   "metadata": {},
   "outputs": [],
   "source": [
    "# Create a basic linear SVM model\n",
    "from sklearn.metrics import accuracy_score\n",
    "# Soft margin SVM (low C)\n",
    "C = [0.01, 0.1, 0.5, 1.0, 10, 100]\n",
    "max_accuracy = 0\n",
    "best_c_0 = None\n",
    "for c in C:\n",
    "    soft_svm = SVC(kernel='linear', C=c)\n",
    "    soft_svm.fit(X_train, y_train)\n",
    "    y_pred_soft = soft_svm.predict(X_valid)\n",
    "    acc = accuracy_score(y_valid, y_pred_soft)\n",
    "    print(f\"Accuracy at c = {c}: {acc:.3f}\")\n",
    "    if acc > max_accuracy:\n",
    "        max_accuracy = acc\n",
    "        best_c = c\n",
    "        \n",
    "\n",
    "print(\"\")\n",
    "print(\"Soft Margin Linear SVM\")\n",
    "print(f\"Best Accuracy at c = {best_c}: {max_accuracy:.3f}\")\n",
    "print(classification_report(y_valid, y_pred_soft))\n",
    "print(confusion_matrix(y_valid, y_pred_soft))"
   ]
  },
  {
   "cell_type": "markdown",
   "id": "b7af6d30",
   "metadata": {},
   "source": [
    "### Linear SVM with Scale"
   ]
  },
  {
   "cell_type": "code",
   "execution_count": null,
   "id": "44e6d321",
   "metadata": {},
   "outputs": [],
   "source": [
    "C = [0.01, 0.1, 1.0, 5.0, 10, 100.0]\n",
    "max_accuracy = 0\n",
    "best_c = None\n",
    "for c in C:\n",
    "    svm_pipe = Pipeline([\n",
    "        ('scaler', StandardScaler()),\n",
    "        ('svm', SVC(kernel='linear', C=c))\n",
    "    ])\n",
    "\n",
    "    svm_pipe.fit(X_train, y_train)\n",
    "    y_pred = svm_pipe.predict(X_valid)\n",
    "    acc = accuracy_score(y_valid, y_pred)\n",
    "    print(f\"Accuracy at c = {c}: {acc:.3f}\")\n",
    "    if acc > max_accuracy:\n",
    "        max_accuracy = acc\n",
    "        best_c = c\n",
    "    \n",
    "print(\"\")\n",
    "print(\"Linear SVM with scaled data\")\n",
    "print(f\"Best Accuracy at c = {best_c}: {max_accuracy:.3f}\")\n",
    "print(classification_report(y_valid, y_pred_soft))\n",
    "print(confusion_matrix(y_valid, y_pred_soft))"
   ]
  },
  {
   "cell_type": "markdown",
   "id": "e0167524",
   "metadata": {},
   "source": [
    "### The Best Linear SVM"
   ]
  },
  {
   "cell_type": "code",
   "execution_count": null,
   "id": "36f75007",
   "metadata": {},
   "outputs": [],
   "source": [
    "# We apply the grid search to find the best parameters for the SVM model\n",
    "# We didn't use `gamma='scale'` here because in the official documentation,\n",
    "# there is no `gamma` parameter for the linear kernel.\n",
    "# https://scikit-learn.org/stable/modules/generated/sklearn.svm.SVC.html#sklearn.svm.SVC\n",
    "\n",
    "svm_grid_pipe = Pipeline([\n",
    "    ('scaler', StandardScaler()),\n",
    "    ('svm', SVC(kernel='linear'))\n",
    "])\n",
    "\n",
    "grid = GridSearchCV(svm_grid_pipe, {\n",
    "    'svm__C': [0.01, 0.1, 1, 10, 100, 1000],\n",
    "}, cv=5, n_jobs=-1, scoring='accuracy')\n",
    "\n",
    "grid.fit(X_train, y_train)\n",
    "print(\"Best parameters found: \", grid.best_params_)\n",
    "y_pred = grid.best_estimator_.predict(X_valid)\n",
    "print(\"Test accuracy:\", accuracy_score(y_valid, y_pred))"
   ]
  },
  {
   "cell_type": "markdown",
   "id": "c685ab50",
   "metadata": {},
   "source": [
    "### Apply The Best SVM"
   ]
  },
  {
   "cell_type": "code",
   "execution_count": null,
   "id": "9f91352b",
   "metadata": {},
   "outputs": [],
   "source": [
    "# We use the best parameters to create a new SVM model\n",
    "best_svm_pipe = Pipeline([\n",
    "    ('scaler', StandardScaler()),\n",
    "    ('svm', SVC(kernel='linear', C = 100))\n",
    "])\n",
    "\n",
    "best_svm_pipe.fit(X_train, y_train)\n",
    "y_pred = best_svm_pipe.predict(X_valid)\n",
    "\n",
    "print(\"Best SVM with scaled data\")\n",
    "print(\"Accuracy:\", accuracy_score(y_valid, y_pred))\n",
    "print(classification_report(y_valid, y_pred))\n",
    "print(confusion_matrix(y_valid, y_pred))\n",
    "# Plot the confusion matrix\n",
    "cm = confusion_matrix(y_valid, y_pred)\n",
    "disp = ConfusionMatrixDisplay(confusion_matrix=cm, display_labels=best_svm_pipe.classes_)\n",
    "disp.plot(cmap=plt.cm.Blues)\n",
    "plt.title(\"Confusion Matrix\")\n",
    "plt.show()\n",
    "\n"
   ]
  },
  {
   "cell_type": "markdown",
   "id": "ae310a8b",
   "metadata": {},
   "source": [
    "## Model 2: Polynomial SVM"
   ]
  },
  {
   "cell_type": "markdown",
   "id": "83ad3f1e",
   "metadata": {},
   "source": [
    "### Polynomial without Scale"
   ]
  },
  {
   "cell_type": "code",
   "execution_count": null,
   "id": "f0afba99",
   "metadata": {},
   "outputs": [],
   "source": [
    "C = [1.0, 5.0, 10.0, 15.0, 100.0]\n",
    "max_accuracy = 0\n",
    "best_c = None\n",
    "best_d = None\n",
    "deg = [2, 3, 4, 5]\n",
    "for c in C:\n",
    "    for d in deg:\n",
    "        svm_poly = SVC(kernel='poly', degree=d, C=c, gamma='scale')\n",
    "        svm_poly.fit(X_train, y_train)\n",
    "        y_pred = svm_poly.predict(X_valid)\n",
    "        acc = accuracy_score(y_valid, y_pred)\n",
    "        print(f\"Accuracy at degree = {d}, c = {c}: {acc:.3f}\")\n",
    "        if acc > max_accuracy:\n",
    "            max_accuracy = acc\n",
    "            best_c = c\n",
    "            best_d = d\n",
    "print(\"*****************************\")\n",
    "print(\"Polynomial SVM\")\n",
    "print(f\"Max Accuracy at degree = {best_d}, c = {best_c}: {max_accuracy:.3f}\")\n",
    "print(\"*****************************\")\n",
    "print(\"Raw X_train variance:\", X_train.var())\n",
    "print(\"Scaled X_train variance:\", StandardScaler().fit_transform(X_train).var())"
   ]
  },
  {
   "cell_type": "markdown",
   "id": "49705bfa",
   "metadata": {},
   "source": [
    "### Polynomial SVM with Scaled data"
   ]
  },
  {
   "cell_type": "code",
   "execution_count": null,
   "id": "77ad1fdd",
   "metadata": {},
   "outputs": [],
   "source": [
    "C = [0.1, 1.0, 5.0, 10.0, 15.0, 100.0]\n",
    "max_accuracy = 0\n",
    "best_c = None\n",
    "best_d = None\n",
    "deg = [2, 3, 4, 5]\n",
    "\n",
    "for c in C:\n",
    "    for d in deg:\n",
    "        svm_poly_pipe = Pipeline([\n",
    "            ('scaler', StandardScaler()),\n",
    "            ('svm', SVC(kernel='poly', degree=d, C=c, gamma='scale'))\n",
    "        ])\n",
    "        svm_poly_pipe.fit(X_train, y_train)\n",
    "        y_pred = svm_poly_pipe.predict(X_valid)\n",
    "        acc = accuracy_score(y_valid, y_pred)\n",
    "        print(f\"Accuracy at degree = {d}, c = {c}: {acc:.3f}\")\n",
    "        if acc > max_accuracy:\n",
    "            max_accuracy = acc\n",
    "            best_c = c\n",
    "            best_d = d\n",
    "print(\"*******************************\")\n",
    "print(\"Polynomial SVM with scaled data\")\n",
    "\n",
    "print(f\"Accuracy at degree = {best_d}, c = {best_c}: {max_accuracy}\", )"
   ]
  },
  {
   "cell_type": "markdown",
   "id": "93faeb39",
   "metadata": {},
   "source": [
    "### Best Polynomial SVM Hyperparameter"
   ]
  },
  {
   "cell_type": "code",
   "execution_count": null,
   "id": "a95eb6cc",
   "metadata": {},
   "outputs": [],
   "source": [
    "svm_poly_grid_pipe = Pipeline([\n",
    "    ('scaler', StandardScaler()),\n",
    "    ('svm', SVC(kernel='poly'))\n",
    "])\n",
    "grid = GridSearchCV(svm_poly_grid_pipe, {\n",
    "    'svm__C': [0.1, 1, 10, 100, 1000],\n",
    "    'svm__degree': [2, 3, 4, 5],\n",
    "    'svm__gamma': ['scale', 'auto'],\n",
    "    'svm__coef0': [0.0, 0.1, 0.5, 1.0]\n",
    "}, cv=5, n_jobs=-1, scoring='accuracy')\n",
    "grid.fit(X_train, y_train)\n",
    "print(\"Best parameters found: \", grid.best_params_)\n",
    "y_pred = grid.best_estimator_.predict(X_valid)\n",
    "print(\"Test accuracy:\", accuracy_score(y_valid, y_pred))"
   ]
  },
  {
   "cell_type": "markdown",
   "id": "4b872d67",
   "metadata": {},
   "source": [
    "### Apply Best Polynomial SVM"
   ]
  },
  {
   "cell_type": "code",
   "execution_count": null,
   "id": "6f6c404f",
   "metadata": {},
   "outputs": [],
   "source": [
    "best_svm_poly_pipe = Pipeline([\n",
    "    ('scaler', StandardScaler()),\n",
    "    ('svm', SVC(kernel='poly', C=100, degree=3, gamma='scale', coef0=1.0))\n",
    "])\n",
    "\n",
    "best_svm_poly_pipe.fit(X_train, y_train)\n",
    "y_pred = best_svm_poly_pipe.predict(X_valid)\n",
    "print(\"Best Polynomial SVM with scaled data\")\n",
    "print(\"Accuracy:\", accuracy_score(y_valid, y_pred))\n",
    "\n",
    "# Classification report\n",
    "print(classification_report(y_valid, y_pred))\n",
    "# Confusion matrix\n",
    "cm = confusion_matrix(y_valid, y_pred)\n",
    "disp = ConfusionMatrixDisplay(confusion_matrix=cm, display_labels=best_svm_poly_pipe.classes_)\n",
    "disp.plot(cmap=plt.cm.Blues)\n",
    "plt.title('Confusion Matrix')\n",
    "plt.show()"
   ]
  },
  {
   "cell_type": "markdown",
   "id": "e69046bd",
   "metadata": {},
   "source": [
    "## Model 3: RBF SVM"
   ]
  },
  {
   "cell_type": "markdown",
   "id": "a6cad639",
   "metadata": {},
   "source": [
    "### Basic RBF SVM"
   ]
  },
  {
   "cell_type": "code",
   "execution_count": null,
   "id": "93e132e7",
   "metadata": {},
   "outputs": [],
   "source": [
    "C = [1.0, 5.0, 10.0, 15.0, 100.0, 1000.0]\n",
    "max_accuracy = 0\n",
    "best_c = None\n",
    "for c in C:\n",
    "    rbf_svm = SVC(kernel='rbf', C=c, gamma='scale')\n",
    "    rbf_svm.fit(X_train, y_train)\n",
    "    y_pred_rbf = rbf_svm.predict(X_valid)\n",
    "    acc = accuracy_score(y_valid, y_pred_rbf)\n",
    "    print(f\"Accuracy at c = {c}: {acc}\")\n",
    "    if acc > max_accuracy:\n",
    "        max_accuracy = acc\n",
    "        best_c = c\n",
    "\n",
    "print(\"**************************\")\n",
    "print(\"Radial Basis Function SVM\")\n",
    "print(f\"Max Accuracy at C = {best_c}: {max_accuracy:.3f}\")\n",
    "print(classification_report(y_valid, y_pred_rbf))\n",
    "print(confusion_matrix(y_valid, y_pred_rbf))"
   ]
  },
  {
   "cell_type": "markdown",
   "id": "3ea49924",
   "metadata": {},
   "source": [
    "### RBF SVM with Scale"
   ]
  },
  {
   "cell_type": "code",
   "execution_count": null,
   "id": "ede49adc",
   "metadata": {},
   "outputs": [],
   "source": [
    "C = [1.0, 5.0, 10.0, 15.0, 100.0, 1000.0]\n",
    "max_accuracy = 0\n",
    "best_c = None\n",
    "best_model = None\n",
    "for c in C:\n",
    "    svm_rbf_pipe = Pipeline([\n",
    "        ('scaler', StandardScaler()),\n",
    "        ('svm', SVC(kernel='rbf', C=c, gamma='scale'))\n",
    "    ])\n",
    "    svm_rbf_pipe.fit(X_train, y_train)\n",
    "    y_pred = svm_rbf_pipe.predict(X_valid)\n",
    "    acc = accuracy_score(y_valid, y_pred)\n",
    "    print(f\"Accuracy at c = {c}: {acc:.3f}\")\n",
    "    if acc > max_accuracy:\n",
    "        max_accuracy = acc\n",
    "        best_c = c\n",
    "        best_model = svm_rbf_pipe\n",
    "print(f\"***********************************\")\n",
    "print(f\"RBF SVM with scaled data\")\n",
    "\n",
    "print(f\"Max Accuracy at c = {best_c}: {max_accuracy:.3f}\")"
   ]
  },
  {
   "cell_type": "markdown",
   "id": "b7ec96e7",
   "metadata": {},
   "source": [
    "### Best RBF SVM"
   ]
  },
  {
   "cell_type": "code",
   "execution_count": null,
   "id": "443a941d",
   "metadata": {},
   "outputs": [],
   "source": [
    "grid_rbf_pipe = Pipeline([\n",
    "    ('scaler', StandardScaler()),\n",
    "    ('svm', SVC(kernel='rbf'))\n",
    "])\n",
    "grid = GridSearchCV(grid_rbf_pipe, {\n",
    "    'svm__C': [0.1, 0.5, 1.0, 5.0, 100.0, 1000.0],\n",
    "    'svm__gamma': ['scale', 'auto'],\n",
    "}, cv=5, n_jobs=-1, scoring='accuracy')\n",
    "grid.fit(X_train, y_train)\n",
    "print(\"Best parameters found: \", grid.best_params_)\n",
    "y_pred = grid.predict(X_valid)\n",
    "print(\"Test accuracy:\", accuracy_score(y_valid, y_pred))"
   ]
  },
  {
   "cell_type": "markdown",
   "id": "c41cb727",
   "metadata": {},
   "source": [
    "### Apply Best RBF SVM"
   ]
  },
  {
   "cell_type": "code",
   "execution_count": null,
   "id": "07fe05f0",
   "metadata": {},
   "outputs": [],
   "source": [
    "best_svm_rbf_pipe = Pipeline([\n",
    "    ('scaler', StandardScaler()),\n",
    "    ('svm', SVC(kernel='rbf', C=1.0, gamma='scale'))\n",
    "])\n",
    "\n",
    "best_svm_rbf_pipe.fit(X_train, y_train)\n",
    "y_pred = best_svm_rbf_pipe.predict(X_valid)\n",
    "print(\"Best RBF SVM with scaled data\")\n",
    "print(\"Accuracy:\", accuracy_score(y_valid, y_pred))\n",
    "\n",
    "# Classification report\n",
    "print(classification_report(y_valid, y_pred))\n",
    "# Confusion matrix\n",
    "cm = confusion_matrix(y_valid, y_pred)\n",
    "disp = ConfusionMatrixDisplay(confusion_matrix=cm, display_labels=best_svm_rbf_pipe.classes_)\n",
    "disp.plot(cmap=plt.cm.Blues)\n",
    "plt.title('Confusion Matrix')\n",
    "plt.show()"
   ]
  },
  {
   "cell_type": "markdown",
   "id": "1d0c017c",
   "metadata": {},
   "source": [
    "## Conclusion"
   ]
  },
  {
   "cell_type": "markdown",
   "id": "ca6344e0",
   "metadata": {},
   "source": [
    "As the data shown, we can see:\n",
    "\n"
   ]
  },
  {
   "cell_type": "markdown",
   "id": "3a0cb1d0",
   "metadata": {},
   "source": [
    "1 For SVM, applying the dataset scaling is important, especially for `Polynomial` and `RBF` kernel."
   ]
  },
  {
   "cell_type": "markdown",
   "id": "68efe9e3",
   "metadata": {},
   "source": [
    "2 And the accuracy of `Polynomial` kernel and `RBF` kernel were almost similar, but the `RBF` kernel ran faster than `Polynomial` kernel, so `RBF` won the best model."
   ]
  },
  {
   "cell_type": "markdown",
   "id": "991a2c00",
   "metadata": {},
   "source": [
    "### Train on Test Dataset"
   ]
  },
  {
   "cell_type": "code",
   "execution_count": null,
   "id": "72363984",
   "metadata": {},
   "outputs": [],
   "source": [
    "best_model = Pipeline([\n",
    "    ('scaler', StandardScaler()),\n",
    "    ('svm', SVC(kernel='rbf', C=1.0, gamma='scale'))\n",
    "])\n",
    "best_model.fit(X_train, y_train)\n",
    "y_pred = best_model.predict(X_test)\n",
    "print(\"Best model test accuracy:\", accuracy_score(y_test, y_pred))\n",
    "# Classification report\n",
    "print(classification_report(y_test, y_pred))\n",
    "# Confusion matrix\n",
    "cm = confusion_matrix(y_test, y_pred)\n",
    "disp = ConfusionMatrixDisplay(confusion_matrix=cm, display_labels=best_model.classes_)\n",
    "disp.plot(cmap=plt.cm.Blues)\n",
    "plt.title('Confusion Matrix')\n",
    "plt.show()"
   ]
  }
 ],
 "metadata": {
  "kernelspec": {
   "display_name": "Python 3",
   "language": "python",
   "name": "python3"
  },
  "language_info": {
   "codemirror_mode": {
    "name": "ipython",
    "version": 3
   },
   "file_extension": ".py",
   "mimetype": "text/x-python",
   "name": "python",
   "nbconvert_exporter": "python",
   "pygments_lexer": "ipython3",
   "version": "3.12.2"
  },
  "papermill": {
   "default_parameters": {},
   "duration": 563.837387,
   "end_time": "2023-03-31T16:08:08.500958",
   "environment_variables": {},
   "exception": null,
   "input_path": "__notebook__.ipynb",
   "output_path": "__notebook__.ipynb",
   "parameters": {},
   "start_time": "2023-03-31T15:58:44.663571",
   "version": "2.4.0"
  }
 },
 "nbformat": 4,
 "nbformat_minor": 5
}
